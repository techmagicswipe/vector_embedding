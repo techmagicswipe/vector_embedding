{
 "cells": [
  {
   "cell_type": "markdown",
   "metadata": {
    "id": "o2_eu8MljOsA"
   },
   "source": [
    "## Necessary Imports"
   ]
  },
  {
   "cell_type": "code",
   "execution_count": null,
   "metadata": {},
   "outputs": [],
   "source": [
    "!python -m spacy download en_core_web_lg"
   ]
  },
  {
   "cell_type": "code",
   "execution_count": null,
   "metadata": {
    "id": "vbSWABPJP5zN"
   },
   "outputs": [],
   "source": [
    "import sys\n",
    "from lxml import etree\n",
    "import numpy as np\n",
    "import spacy\n",
    "import pickle\n",
    "import re\n",
    "import json\n",
    "import os\n",
    "import sklearn\n",
    "from sklearn.metrics.pairwise import cosine_similarity\n"
   ]
  },
  {
   "cell_type": "code",
   "execution_count": null,
   "metadata": {
    "id": "sgfGK09W5_Py"
   },
   "outputs": [],
   "source": [
    "# Laod English module\n",
    "nlp = spacy.load(\"en_core_web_lg\")"
   ]
  },
  {
   "cell_type": "markdown",
   "metadata": {
    "id": "8Y-hzV4Goenh"
   },
   "source": [
    "# Node - class"
   ]
  },
  {
   "cell_type": "code",
   "execution_count": null,
   "metadata": {
    "id": "K9gJFz0ndzvl"
   },
   "outputs": [],
   "source": [
    "class Node:\n",
    "    def __init__(self):\n",
    "        self.xpath = \"\"\n",
    "        self.element = None\n",
    "        self.vector = None\n",
    "        self.shape = None\n",
    "        \n",
    "\n",
    "    def get_vector(self):\n",
    "        self.vector = self.generate_vector()\n",
    "        \n",
    "    def preprocess_text(self, text):\n",
    "        # Lowercase the text and remove special characters\n",
    "        text = text.lower()\n",
    "        text = re.sub(r'[^a-zA-Z0-9\\s]', '', text)\n",
    "        return text\n",
    "\n",
    "    def generate_vector(self):\n",
    "        tag = self.get_type()\n",
    "        vector = np.zeros(len(nlp(\"sample\").vector))\n",
    "        \n",
    "        # Extract and process text content\n",
    "        text = self.element.text\n",
    "        if text:\n",
    "            text = text.strip()\n",
    "            text = self.preprocess_text(text)  # Apply text preprocessing\n",
    "            vector = np.add(vector, nlp(text).vector)\n",
    "        \n",
    "        # Include attribute names and values\n",
    "        for attr, value in self.element.items():\n",
    "            attr_vector = f\"{attr} {value}\"\n",
    "            attr_vector = self.preprocess_text(attr_vector)  # Apply text preprocessing\n",
    "            vector = np.add(vector, nlp(attr_vector).vector)\n",
    "        \n",
    "        return vector\n",
    "\n",
    "    def get_shape(self):\n",
    "        return (len(self.get_vector()),)\n",
    "\n",
    "    def get_type(self):\n",
    "        tag = self.element.tag\n",
    "        if tag in [\"span\", \"i\", \"p\", \"h1\", \"h2\", \"h3\", \"h4\", \"h5\", \"h6\",\"strong\",\"em\",\"blockquote\",\"br\",\"hr\"]:\n",
    "            return \"Text Elements\"\n",
    "        elif tag in [\"header\", \"nav\", \"article\", \"section\", \"aside\", \"footer\",\"main\",\"div\",\"body\",\"time\",\"aria-*\"]:\n",
    "            return \"Semantic Elements\"\n",
    "        elif tag in [\"class\", \"id\", \"style\", \"data-*\", \"title\"]:\n",
    "            return \"Attributes\"\n",
    "        elif tag == \"form\":\n",
    "            return \"Form Elements\"\n",
    "        elif tag == \"input\" and self.element.get(\"type\") == \"button\":\n",
    "            return \"Buttons and Interaction (Input Type Button)\"\n",
    "        elif tag == \"input\":\n",
    "            return \"Form Elements (Other Input Types)\"\n",
    "        elif tag == \"textarea\":\n",
    "            return \"Form Elements (Text Area)\"\n",
    "        elif tag == \"label\":\n",
    "            return \"Form Elements (Label)\"\n",
    "        elif tag == \"a\":\n",
    "            return \"Links\"\n",
    "        elif tag in [\"img\", \"audio\", \"video\",\"figure\",\"picture\",\"source\",\"figcaption\",\"map\",\"area\",\"iframe\",\"canvas\"]:\n",
    "            return \"Media Elements\"\n",
    "        elif tag in [\"ul\", \"ol\", \"li\"]:\n",
    "            return \"Lists\"\n",
    "        elif tag in [\"select\", \"fieldset\", \"legent\",\"submit\",\"reset\",\"option\",\"radio\",\"checkbox\"]:\n",
    "            return \"Form Tags\"\n",
    "        elif tag in [\"table\", \"tr\", \"td\",\"th\",\"thead\",\"tbody\",\"tfoot\"]:    \n",
    "            return \"Tables\"\n",
    "        elif tag in [\"code\", \"kbd\", \"samp\",\"sub\",\"sup\"]:    \n",
    "            return \"Code\"\n",
    "        elif tag in [\"dfn\", \"pre\", \"var\",\"wbr\"]:    \n",
    "            return \"Formatting Tags\"\n",
    "        elif tag in [\"del\", \"ins\", \"mark\",\"s\"]:    \n",
    "            return \"Editorial Tags\"\n",
    "        elif tag in [\"dd\", \"dl\", \"dt\"]:    \n",
    "            return \"Defination Tags\"\n",
    "        elif tag in [\"details\", \"summary\", \"progress\",\"meter\"]:    \n",
    "            return \"Interactive Elements\"\n",
    "        elif tag in [\"caption\", \"colgroup\", \"col\",\"th scope=\"]:    \n",
    "            return \"Table Enhancements\"\n",
    "        elif tag in [\"base\", \"link rel\",\"stylesheet\", \"icon\",\"description\"]:    \n",
    "            return \"Meta Information\"\n",
    "        elif tag in [\"noscript\", \"svg\",\"object\"]:    \n",
    "            return \"Scripting & APIs\"\n",
    "        elif tag in [\"custom-element\", \"template\",\"shadow-dom\"]:    \n",
    "            return \"Web Components\"\n",
    "        elif tag == \"html\":\n",
    "            return \"HTML Element\"\n",
    "        elif tag == \"head\":\n",
    "            return \"Head Element\"\n",
    "        elif tag == \"meta\":\n",
    "            return \"Meta Element\"\n",
    "        elif tag == \"link\":\n",
    "            return \"Link Element\"\n",
    "        elif tag == \"hreflang\":\n",
    "            return \"Hreflang Element\"\n",
    "        elif tag == \"title\":\n",
    "            return \"Title Element\"\n",
    "        elif tag == \"a\" and self.element.get(\"href\"):\n",
    "            return \"A Element with Href\"\n",
    "        elif tag == \"code\" and self.element.get(\"id\"):\n",
    "            return \"Code Element with ID\"\n",
    "        elif tag == \"form\" and self.element.get(\"class\"):\n",
    "            return \"Form Element with Class\"\n",
    "        elif tag == \"input\" and self.element.get(\"name\"):\n",
    "            return \"Input Element with Name\"\n",
    "        elif tag == \"div\" and self.element.get(\"class\"):\n",
    "            return \"Div Element with Class\"\n",
    "        elif tag == \"icon\" and self.element.get(\"class\"):\n",
    "            return \"Icon Element with Class\"\n",
    "        elif tag == \"script\" and self.element.get(\"data-delayed-url\"):\n",
    "            return \"Script Element with Data-delayed-url\"\n",
    "        else:\n",
    "            return \"Other\"\n",
    "\n",
    "    def get_actual_name(self):\n",
    "        # Extract the text content of the HTML element\n",
    "        text = self.element.text\n",
    "        if text:\n",
    "            return text.strip()\n",
    "        return None\n",
    "\n",
    "    def __str__(self):\n",
    "        return f\"Node(xpath: {self.xpath}, element: {self.element.tag}, type: {self.get_type()}\""
   ]
  },
  {
   "cell_type": "markdown",
   "metadata": {
    "id": "gW0kxKk961ly"
   },
   "source": [
    "# Html2Vec - class"
   ]
  },
  {
   "cell_type": "code",
   "execution_count": null,
   "metadata": {
    "id": "iErq6q8C6woj"
   },
   "outputs": [],
   "source": [
    "class Html2Vec:\n",
    "    def __init__(self, html_content):\n",
    "        self.tree = etree.HTML(html_content)\n",
    "\n",
    "    def fit(self):\n",
    "        nodes = []\n",
    "        for element in self.tree.iter():\n",
    "            if element.tag in {\"button\", \"nav\", \"a\", \"link\", \"input\",\"html\",\"meta\",\"link\",\"hreflang\",\n",
    "                            \"title\", \"head\", \"span\", \"i\", \"p\", \"h1\", \"h2\", \"h3\", \"h4\", \"h5\", \"h6\", \n",
    "                            \"header\", \"nav\", \"article\", \"section\", \"aside\", \"footer\", \"icon\",\n",
    "                            \"class\", \"id\", \"style\", \"data-*\", \"title\",\"form\",\"input\",\"textarea\",\n",
    "                            \"label\",\"a\",\"code\",\"div\",\"script\",\"class\",\"name\",\"id\",\"href\",\n",
    "                            \"img\", \"audio\", \"video\",\"ul\", \"ol\", \"li\",\"table\", \"tr\", \"td\",\"Other\",\n",
    "                            \"main\",\"div\",\"figure\",\"picture\",\"source\",\"figcaption\",\"map\",\"area\",\"body\",\n",
    "                            \"kbd\", \"samp\",\"sub\",\"sup\",\"dfn\", \"pre\", \"var\",\"wbr\",\"del\", \"ins\", \"mark\",\"s\",\"dd\",\"dl\",\"dt\",\n",
    "                            \"strong\",\"em\",\"blockquote\",\"br\",\"hr\",\"select\", \"fieldset\", \"legent\",\"submit\",\"reset\",\n",
    "                            \"th\",\"thead\",\"tbody\",\"tfoot\",\"time\",\"iframe\",\"canvas\",\"option\",\"radio\",\"checkbox\",\n",
    "                            \"details\", \"summary\", \"progress\",\"meter\",\"caption\", \"colgroup\", \"col\",\"th scope=\",\n",
    "                            \"custom-element\",\"base\", \"link rel\",\"stylesheet\", \"icon\",\"description\",\n",
    "                            \"noscript\", \"svg\",\"object\",\"aria-*\",\"template\",\"shadow-dom\"}:\n",
    "                node = Node()\n",
    "                node.xpath = self.get_xpath(element)\n",
    "                node.element = element\n",
    "                node.get_vector()\n",
    "                nodes.append(node)\n",
    "        return nodes\n",
    "\n",
    "    def get_xpath(self, element):\n",
    "        xpath = [element.tag]\n",
    "        while element.getparent() is not None:\n",
    "            element = element.getparent()\n",
    "            xpath.insert(0, element.tag)\n",
    "        #return f\"/{'/'.join(xpath)}[text()='{element.text.strip()}']\"    \n",
    "        return '/'.join(xpath)\n"
   ]
  },
  {
   "cell_type": "markdown",
   "metadata": {
    "id": "GwmsS7RJotex"
   },
   "source": [
    "# UIMapper - class"
   ]
  },
  {
   "cell_type": "code",
   "execution_count": null,
   "metadata": {
    "id": "r-5kWbLUWp_g"
   },
   "outputs": [],
   "source": [
    "class UIMapper:\n",
    "    def map_ui_elements(self, html_content):\n",
    "        html2vec = Html2Vec(html_content)\n",
    "        nodes = html2vec.fit()\n",
    "        return nodes"
   ]
  },
  {
   "cell_type": "markdown",
   "metadata": {
    "id": "8bpREvIUunXA"
   },
   "source": [
    "# ReportGenerator - class"
   ]
  },
  {
   "cell_type": "code",
   "execution_count": null,
   "metadata": {},
   "outputs": [],
   "source": [
    "class ReportGenerator:\n",
    "    @staticmethod\n",
    "    def generate_report(html_content, user_input_vector, similarity_threshold):\n",
    "        mapper = UIMapper()\n",
    "        nodes = mapper.map_ui_elements(html_content)\n",
    "\n",
    "        report_list = []\n",
    "\n",
    "        for node in nodes:\n",
    "            if node.vector is not None:\n",
    "                report_dict = {\n",
    "                    \"Node XPath\": node.xpath,\n",
    "                    \"Generated Vector\": node.vector.tolist(),  # Convert numpy array to list for JSON serialization\n",
    "                    \"Node Element Tag\": node.element.tag,\n",
    "                    \"Node Type\": node.get_type(),\n",
    "                    \"Actual Name\": node.get_actual_name(),\n",
    "                    \"Category\": node.get_type(),  # Set category to node type\n",
    "                    \"Cosine Similarity\": None  # Initialize cosine similarity field\n",
    "                }\n",
    "\n",
    "                # Calculate cosine similarity with user input vector\n",
    "                if user_input_vector is not None:\n",
    "                    cosine_similarity_value = cosine_similarity([user_input_vector], [node.vector])[0][0]\n",
    "                    report_dict[\"Cosine Similarity\"] = cosine_similarity_value\n",
    "\n",
    "                # Include node in report if it has an actual name\n",
    "                if report_dict[\"Actual Name\"]:\n",
    "                    report_list.append(report_dict)\n",
    "\n",
    "        return report_list"
   ]
  },
  {
   "cell_type": "markdown",
   "metadata": {},
   "source": [
    "# Generate vectors of UI elements & Cosine similarity with User query"
   ]
  },
  {
   "cell_type": "code",
   "execution_count": null,
   "metadata": {},
   "outputs": [],
   "source": [
    "from os.path import join\n",
    "import os\n",
    "\n",
    "# Function to take user input for UI element text\n",
    "def get_user_input_text():\n",
    "    return \"forgot password?\"\n",
    "\n",
    "# Define the directory path containing HTML files\n",
    "html_folder_path = r\"C:\\Users\\Ankit\\Projects\\OCR_AI\\html2vec\\Final\\Hierarchy\\linkedin\"\n",
    "\n",
    "# Increase spaCy's max_length limit\n",
    "nlp.max_length = 2000000  # Set an appropriate value based on your HTML content length\n",
    "\n",
    "# Initialize variables to store the overall best matching entry\n",
    "overall_highest_cosine_similarity_global = -1\n",
    "overall_best_matching_entry_global = None\n",
    "overall_best_matching_html_file = None\n",
    "\n",
    "# Get user input for UI element text\n",
    "user_input_text = get_user_input_text()\n",
    "\n",
    "# Convert user input text into vector using spaCy\n",
    "user_input_vector = nlp(user_input_text).vector\n",
    "\n",
    "# Process each HTML file in the directory and its subdirectories\n",
    "for root, dirs, files in os.walk(html_folder_path):\n",
    "    for html_file_name in files:\n",
    "        if html_file_name.endswith('.html'):\n",
    "            # Construct the full path to the HTML file\n",
    "            html_file_path = os.path.join(root, html_file_name)\n",
    "\n",
    "            # Read HTML content from the file\n",
    "            with open(html_file_path, \"r\", encoding=\"utf-8\") as html_file:\n",
    "                html_content = html_file.read()\n",
    "\n",
    "            # Generate the report data and get the maximum cosine similarity\n",
    "            report_data = ReportGenerator.generate_report(html_content, user_input_vector, similarity_threshold=None)\n",
    "            max_cosine_similarity = max(entry[\"Cosine Similarity\"] for entry in report_data)\n",
    "\n",
    "            # Use the maximum cosine similarity as the threshold\n",
    "            similarity_threshold = max_cosine_similarity\n",
    "\n",
    "            # Find the UI element with the highest cosine similarity for the current HTML file\n",
    "            highest_cosine_similarity = -1\n",
    "            best_matching_entry = None\n",
    "\n",
    "            for entry in report_data:\n",
    "                cosine_similarity_value = entry[\"Cosine Similarity\"]\n",
    "\n",
    "                if cosine_similarity_value > highest_cosine_similarity:\n",
    "                    highest_cosine_similarity = cosine_similarity_value\n",
    "                    best_matching_entry = entry\n",
    "\n",
    "            # Print the details of the highest cosine similarity for the current HTML file\n",
    "            if best_matching_entry is not None:\n",
    "                print(f\"Highest Cosine Similarity for {html_file_name}: {highest_cosine_similarity}\")\n",
    "                print(f\"Best Matching Entry:\")\n",
    "                print(f\"Node Type: {best_matching_entry['Node Type']}\")\n",
    "                print(f\"Actual Name: {best_matching_entry['Actual Name']}\")\n",
    "                print(f\"Category: {best_matching_entry['Category']}\")\n",
    "                print(f\"Node XPath: {best_matching_entry['Node XPath']}\")\n",
    "                print(f\"Generated Vector: {best_matching_entry['Generated Vector']}\")\n",
    "                print()\n",
    "\n",
    "            # Update overall variables if the current entry has higher cosine similarity\n",
    "            if highest_cosine_similarity > overall_highest_cosine_similarity_global:\n",
    "                overall_highest_cosine_similarity_global = highest_cosine_similarity\n",
    "                overall_best_matching_entry_global = best_matching_entry\n",
    "                overall_best_matching_html_file = html_file_path\n",
    "\n",
    "# Print the details of the overall best matching entry across all HTML files\n",
    "if overall_best_matching_entry_global is not None:\n",
    "    print(f\"Overall Highest Cosine Similarity: {overall_highest_cosine_similarity_global}\")\n",
    "    print(f\"Best Matching Entry:\")\n",
    "    print(f\"Node Type: {overall_best_matching_entry_global['Node Type']}\")\n",
    "    print(f\"Actual Name: {overall_best_matching_entry_global['Actual Name']}\")\n",
    "    print(f\"Category: {overall_best_matching_entry_global['Category']}\")\n",
    "    print(f\"Node XPath: {overall_best_matching_entry_global['Node XPath']}\")\n",
    "    print(f\"Generated Vector: {overall_best_matching_entry_global['Generated Vector']}\")\n",
    "    print(f\"Corresponding HTML File: {overall_best_matching_html_file}\")\n",
    "    print()\n",
    "\n",
    "    # Open the HTML file corresponding to the overall best match\n",
    "    print(f\"Opening HTML file: {overall_best_matching_html_file}\")\n",
    "\n",
    "    # Now you can open the HTML file using your preferred method (e.g., web browser, etc.)\n",
    "    # Example: open the HTML file in the default web browser\n",
    "    import webbrowser\n",
    "    webbrowser.open(overall_best_matching_html_file)\n"
   ]
  },
  {
   "cell_type": "code",
   "execution_count": null,
   "metadata": {},
   "outputs": [],
   "source": []
  },
  {
   "cell_type": "code",
   "execution_count": null,
   "metadata": {},
   "outputs": [],
   "source": []
  },
  {
   "cell_type": "code",
   "execution_count": null,
   "metadata": {},
   "outputs": [],
   "source": []
  },
  {
   "cell_type": "code",
   "execution_count": null,
   "metadata": {},
   "outputs": [],
   "source": []
  },
  {
   "cell_type": "code",
   "execution_count": null,
   "metadata": {},
   "outputs": [],
   "source": []
  },
  {
   "cell_type": "code",
   "execution_count": null,
   "metadata": {},
   "outputs": [],
   "source": []
  },
  {
   "cell_type": "code",
   "execution_count": null,
   "metadata": {},
   "outputs": [],
   "source": []
  }
 ],
 "metadata": {
  "colab": {
   "provenance": []
  },
  "kernelspec": {
   "display_name": "Python 3 (ipykernel)",
   "language": "python",
   "name": "python3"
  },
  "language_info": {
   "codemirror_mode": {
    "name": "ipython",
    "version": 3
   },
   "file_extension": ".py",
   "mimetype": "text/x-python",
   "name": "python",
   "nbconvert_exporter": "python",
   "pygments_lexer": "ipython3",
   "version": "3.11.5"
  }
 },
 "nbformat": 4,
 "nbformat_minor": 1
}
