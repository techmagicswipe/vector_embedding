{
 "cells": [
  {
   "cell_type": "markdown",
   "metadata": {
    "id": "o2_eu8MljOsA"
   },
   "source": [
    "## Necessary Imports"
   ]
  },
  {
   "cell_type": "code",
   "execution_count": null,
   "metadata": {},
   "outputs": [],
   "source": [
    "!python -m spacy download en_core_web_lg"
   ]
  },
  {
   "cell_type": "code",
   "execution_count": 1,
   "metadata": {
    "id": "vbSWABPJP5zN"
   },
   "outputs": [],
   "source": [
    "import sys\n",
    "from lxml import etree\n",
    "import numpy as np\n",
    "import spacy\n",
    "import pickle\n",
    "import re\n",
    "import json\n",
    "import os\n",
    "import sklearn\n",
    "from sklearn.metrics.pairwise import cosine_similarity\n"
   ]
  },
  {
   "cell_type": "code",
   "execution_count": 2,
   "metadata": {
    "id": "sgfGK09W5_Py"
   },
   "outputs": [],
   "source": [
    "# Laod English module\n",
    "nlp = spacy.load(\"en_core_web_md\")"
   ]
  },
  {
   "cell_type": "markdown",
   "metadata": {
    "id": "8Y-hzV4Goenh"
   },
   "source": [
    "# Node - class"
   ]
  },
  {
   "cell_type": "code",
   "execution_count": 3,
   "metadata": {
    "id": "K9gJFz0ndzvl"
   },
   "outputs": [],
   "source": [
    "class Node:\n",
    "    def __init__(self):\n",
    "        self.xpath = \"\"\n",
    "        self.element = None\n",
    "        self.vector = None\n",
    "        self.shape = None\n",
    "        \n",
    "\n",
    "    def get_vector(self):\n",
    "        self.vector = self.generate_vector()\n",
    "        \n",
    "    def preprocess_text(self, text):\n",
    "        # Lowercase the text and remove special characters\n",
    "        text = text.lower()\n",
    "        text = re.sub(r'[^a-zA-Z0-9\\s]', '', text)\n",
    "        return text\n",
    "\n",
    "    def generate_vector(self):\n",
    "        tag = self.get_type()\n",
    "        vector = np.zeros(len(nlp(\"sample\").vector))\n",
    "        \n",
    "        # Extract and process text content\n",
    "        text = self.element.text\n",
    "        if text:\n",
    "            text = text.strip()\n",
    "            text = self.preprocess_text(text)  # Apply text preprocessing\n",
    "            vector = np.add(vector, nlp(text).vector)\n",
    "        \n",
    "        # Include attribute names and values\n",
    "        for attr, value in self.element.items():\n",
    "            attr_vector = f\"{attr} {value}\"\n",
    "            attr_vector = self.preprocess_text(attr_vector)  # Apply text preprocessing\n",
    "            vector = np.add(vector, nlp(attr_vector).vector)\n",
    "        \n",
    "        return vector\n",
    "\n",
    "    def get_shape(self):\n",
    "        return (len(self.get_vector()),)\n",
    "\n",
    "    def get_type(self):\n",
    "        tag = self.element.tag\n",
    "        if tag in [\"span\", \"i\", \"p\", \"h1\", \"h2\", \"h3\", \"h4\", \"h5\", \"h6\",\"strong\",\"em\",\"blockquote\",\"br\",\"hr\"]:\n",
    "            return \"Text Elements\"\n",
    "        elif tag in [\"header\", \"nav\", \"article\", \"section\", \"aside\", \"footer\",\"main\",\"div\",\"body\",\"time\",\"aria-*\"]:\n",
    "            return \"Semantic Elements\"\n",
    "        elif tag in [\"class\", \"id\", \"style\", \"data-*\", \"title\"]:\n",
    "            return \"Attributes\"\n",
    "        elif tag == \"form\":\n",
    "            return \"Form Elements\"\n",
    "        elif tag == \"input\" and self.element.get(\"type\") == \"button\":\n",
    "            return \"Buttons and Interaction (Input Type Button)\"\n",
    "        elif tag == \"input\":\n",
    "            return \"Form Elements (Other Input Types)\"\n",
    "        elif tag == \"textarea\":\n",
    "            return \"Form Elements (Text Area)\"\n",
    "        elif tag == \"label\":\n",
    "            return \"Form Elements (Label)\"\n",
    "        elif tag == \"a\":\n",
    "            return \"Links\"\n",
    "        elif tag in [\"img\", \"audio\", \"video\",\"figure\",\"picture\",\"source\",\"figcaption\",\"map\",\"area\",\"iframe\",\"canvas\"]:\n",
    "            return \"Media Elements\"\n",
    "        elif tag in [\"ul\", \"ol\", \"li\"]:\n",
    "            return \"Lists\"\n",
    "        elif tag in [\"select\", \"fieldset\", \"legent\",\"submit\",\"reset\",\"option\",\"radio\",\"checkbox\"]:\n",
    "            return \"Form Tags\"\n",
    "        elif tag in [\"table\", \"tr\", \"td\",\"th\",\"thead\",\"tbody\",\"tfoot\"]:    \n",
    "            return \"Tables\"\n",
    "        elif tag in [\"code\", \"kbd\", \"samp\",\"sub\",\"sup\"]:    \n",
    "            return \"Code\"\n",
    "        elif tag in [\"dfn\", \"pre\", \"var\",\"wbr\"]:    \n",
    "            return \"Formatting Tags\"\n",
    "        elif tag in [\"del\", \"ins\", \"mark\",\"s\"]:    \n",
    "            return \"Editorial Tags\"\n",
    "        elif tag in [\"dd\", \"dl\", \"dt\"]:    \n",
    "            return \"Defination Tags\"\n",
    "        elif tag in [\"details\", \"summary\", \"progress\",\"meter\"]:    \n",
    "            return \"Interactive Elements\"\n",
    "        elif tag in [\"caption\", \"colgroup\", \"col\",\"th scope=\"]:    \n",
    "            return \"Table Enhancements\"\n",
    "        elif tag in [\"base\", \"link rel\",\"stylesheet\", \"icon\",\"description\"]:    \n",
    "            return \"Meta Information\"\n",
    "        elif tag in [\"noscript\", \"svg\",\"object\"]:    \n",
    "            return \"Scripting & APIs\"\n",
    "        elif tag in [\"custom-element\", \"template\",\"shadow-dom\"]:    \n",
    "            return \"Web Components\"\n",
    "        elif tag == \"html\":\n",
    "            return \"HTML Element\"\n",
    "        elif tag == \"head\":\n",
    "            return \"Head Element\"\n",
    "        elif tag == \"meta\":\n",
    "            return \"Meta Element\"\n",
    "        elif tag == \"link\":\n",
    "            return \"Link Element\"\n",
    "        elif tag == \"hreflang\":\n",
    "            return \"Hreflang Element\"\n",
    "        elif tag == \"title\":\n",
    "            return \"Title Element\"\n",
    "        elif tag == \"a\" and self.element.get(\"href\"):\n",
    "            return \"A Element with Href\"\n",
    "        elif tag == \"code\" and self.element.get(\"id\"):\n",
    "            return \"Code Element with ID\"\n",
    "        elif tag == \"form\" and self.element.get(\"class\"):\n",
    "            return \"Form Element with Class\"\n",
    "        elif tag == \"input\" and self.element.get(\"name\"):\n",
    "            return \"Input Element with Name\"\n",
    "        elif tag == \"div\" and self.element.get(\"class\"):\n",
    "            return \"Div Element with Class\"\n",
    "        elif tag == \"icon\" and self.element.get(\"class\"):\n",
    "            return \"Icon Element with Class\"\n",
    "        elif tag == \"script\" and self.element.get(\"data-delayed-url\"):\n",
    "            return \"Script Element with Data-delayed-url\"\n",
    "        else:\n",
    "            return \"Other\"\n",
    "\n",
    "    def get_actual_name(self):\n",
    "        # Extract the text content of the HTML element\n",
    "        text = self.element.text\n",
    "        if text:\n",
    "            return text.strip()\n",
    "        return None\n",
    "\n",
    "    def __str__(self):\n",
    "        return f\"Node(xpath: {self.xpath}, element: {self.element.tag}, type: {self.get_type()}\""
   ]
  },
  {
   "cell_type": "markdown",
   "metadata": {
    "id": "gW0kxKk961ly"
   },
   "source": [
    "# Html2Vec - class"
   ]
  },
  {
   "cell_type": "code",
   "execution_count": 4,
   "metadata": {
    "id": "iErq6q8C6woj"
   },
   "outputs": [],
   "source": [
    "class Html2Vec:\n",
    "    def __init__(self, html_content):\n",
    "        self.tree = etree.HTML(html_content)\n",
    "\n",
    "    def fit(self):\n",
    "        nodes = []\n",
    "        for element in self.tree.iter():\n",
    "            if element.tag in {\"button\", \"nav\", \"a\", \"link\", \"input\",\"html\",\"meta\",\"link\",\"hreflang\",\n",
    "                            \"title\", \"head\", \"span\", \"i\", \"p\", \"h1\", \"h2\", \"h3\", \"h4\", \"h5\", \"h6\", \n",
    "                            \"header\", \"nav\", \"article\", \"section\", \"aside\", \"footer\", \"icon\",\n",
    "                            \"class\", \"id\", \"style\", \"data-*\", \"title\",\"form\",\"input\",\"textarea\",\n",
    "                            \"label\",\"a\",\"code\",\"div\",\"script\",\"class\",\"name\",\"id\",\"href\",\n",
    "                            \"img\", \"audio\", \"video\",\"ul\", \"ol\", \"li\",\"table\", \"tr\", \"td\",\"Other\",\n",
    "                            \"main\",\"div\",\"figure\",\"picture\",\"source\",\"figcaption\",\"map\",\"area\",\"body\",\n",
    "                            \"kbd\", \"samp\",\"sub\",\"sup\",\"dfn\", \"pre\", \"var\",\"wbr\",\"del\", \"ins\", \"mark\",\"s\",\"dd\",\"dl\",\"dt\",\n",
    "                            \"strong\",\"em\",\"blockquote\",\"br\",\"hr\",\"select\", \"fieldset\", \"legent\",\"submit\",\"reset\",\n",
    "                            \"th\",\"thead\",\"tbody\",\"tfoot\",\"time\",\"iframe\",\"canvas\",\"option\",\"radio\",\"checkbox\",\n",
    "                            \"details\", \"summary\", \"progress\",\"meter\",\"caption\", \"colgroup\", \"col\",\"th scope=\",\n",
    "                            \"custom-element\",\"base\", \"link rel\",\"stylesheet\", \"icon\",\"description\",\n",
    "                            \"noscript\", \"svg\",\"object\",\"aria-*\",\"template\",\"shadow-dom\"}:\n",
    "                node = Node()\n",
    "                node.xpath = self.get_xpath(element)\n",
    "                node.element = element\n",
    "                node.get_vector()\n",
    "                nodes.append(node)\n",
    "        return nodes\n",
    "\n",
    "    def get_xpath(self, element):\n",
    "        xpath = [element.tag]\n",
    "        while element.getparent() is not None:\n",
    "            element = element.getparent()\n",
    "            xpath.insert(0, element.tag)\n",
    "        #return f\"/{'/'.join(xpath)}[text()='{element.text.strip()}']\"    \n",
    "        return '/'.join(xpath)\n"
   ]
  },
  {
   "cell_type": "markdown",
   "metadata": {
    "id": "GwmsS7RJotex"
   },
   "source": [
    "# UIMapper - class"
   ]
  },
  {
   "cell_type": "code",
   "execution_count": 5,
   "metadata": {
    "id": "r-5kWbLUWp_g"
   },
   "outputs": [],
   "source": [
    "class UIMapper:\n",
    "    def map_ui_elements(self, html_content):\n",
    "        html2vec = Html2Vec(html_content)\n",
    "        nodes = html2vec.fit()\n",
    "        return nodes"
   ]
  },
  {
   "cell_type": "markdown",
   "metadata": {
    "id": "8bpREvIUunXA"
   },
   "source": [
    "# ReportGenerator - class"
   ]
  },
  {
   "cell_type": "code",
   "execution_count": 6,
   "metadata": {},
   "outputs": [],
   "source": [
    "class ReportGenerator:\n",
    "    @staticmethod\n",
    "    def generate_report(html_content, user_input_vector, similarity_threshold):\n",
    "        mapper = UIMapper()\n",
    "        nodes = mapper.map_ui_elements(html_content)\n",
    "\n",
    "        report_list = []\n",
    "\n",
    "        for node in nodes:\n",
    "            if node.vector is not None:\n",
    "                report_dict = {\n",
    "                    \"Node XPath\": node.xpath,\n",
    "                    \"Generated Vector\": node.vector.tolist(),  # Convert numpy array to list for JSON serialization\n",
    "                    \"Node Element Tag\": node.element.tag,\n",
    "                    \"Node Type\": node.get_type(),\n",
    "                    \"Actual Name\": node.get_actual_name(),\n",
    "                    \"Category\": node.get_type(),  # Set category to node type\n",
    "                    \"Cosine Similarity\": None  # Initialize cosine similarity field\n",
    "                }\n",
    "\n",
    "                # Calculate cosine similarity with user input vector\n",
    "                if user_input_vector is not None:\n",
    "                    cosine_similarity_value = cosine_similarity([user_input_vector], [node.vector])[0][0]\n",
    "                    report_dict[\"Cosine Similarity\"] = cosine_similarity_value\n",
    "\n",
    "                # Include node in report if it has an actual name\n",
    "                if report_dict[\"Actual Name\"]:\n",
    "                    report_list.append(report_dict)\n",
    "\n",
    "        return report_list"
   ]
  },
  {
   "cell_type": "markdown",
   "metadata": {},
   "source": [
    "# Generate vectors of UI elements & Cosine similarity with User query"
   ]
  },
  {
   "cell_type": "code",
   "execution_count": 15,
   "metadata": {},
   "outputs": [
    {
     "name": "stdout",
     "output_type": "stream",
     "text": [
      "Highest Cosine Similarity for gmail.html: 0.7139961723700201\n",
      "Best Matching Entry:\n",
      "Node Type: Text Elements\n",
      "Actual Name: Emails from social networks, media-sharing sites, dating services and other social sites will be shown here.\n",
      "Category: Text Elements\n",
      "Node XPath: html/body/div/div/div/div/div/div/div/div/div/div/div/div/div/div/div/div/div/div/div/div/p\n",
      "Generated Vector: [0.6788442730903625, -0.5932208299636841, -1.6883869171142578, 1.1796618700027466, 3.6282622814178467, 1.120784044265747, -0.14288562536239624, 4.312306880950928, -1.6884236335754395, 0.042547762393951416, 5.71486234664917, 1.8804112672805786, -4.98381233215332, 1.5568100214004517, 1.6233388185501099, 1.7912724018096924, 1.8370131254196167, -0.10709978640079498, -3.3536736965179443, -2.0100762844085693, 2.352381944656372, -0.9482662677764893, -3.376128911972046, -0.5315375328063965, -1.3477814197540283, -1.5946191549301147, -1.270690679550171, -1.3487825393676758, -1.740720510482788, -0.4115949869155884, 1.5678274631500244, 0.341002881526947, -2.741446018218994, -1.4343338012695312, -0.2839687466621399, 0.6190168261528015, -0.06234288215637207, 0.17780619859695435, 2.0817008018493652, -0.5574386119842529, 1.338457465171814, 0.4771218001842499, -0.5714805722236633, 0.8381187319755554, -1.3495912551879883, 2.4507734775543213, 2.270857334136963, -3.1376659870147705, 1.3716399669647217, 1.2018699645996094, -0.17443637549877167, 3.8673899173736572, -0.18213626742362976, -5.993462085723877, -0.6272361874580383, 1.6147958040237427, -2.130403757095337, 1.6046311855316162, 1.7940276861190796, -1.144222617149353, 1.8105995655059814, 1.48976731300354, -1.2573857307434082, -1.5345344543457031, 4.288207530975342, 2.5422110557556152, -3.8419089317321777, -1.1951498985290527, 1.2619850635528564, 3.025083065032959, -1.7388099431991577, -0.2872166633605957, -1.5861026048660278, -1.1583819389343262, -0.8090204000473022, 0.8192510008811951, -2.6164965629577637, 0.7547912001609802, -3.299673080444336, 0.7460569739341736, -4.224367141723633, 0.2773369252681732, 2.973294973373413, 1.4976990222930908, 1.6400587558746338, 1.1543768644332886, -1.6319046020507812, -2.140047073364258, 3.2810754776000977, -0.4153794050216675, 0.747133731842041, 0.8793127536773682, 1.231960654258728, -2.383312463760376, -0.06575128436088562, -0.9885424971580505, 1.917388677597046, -2.37330961227417, 1.0742580890655518, 1.448781967163086, 3.7422242164611816, 1.9107656478881836, 1.215506911277771, 1.3441288471221924, -1.4522337913513184, 5.838367938995361, -2.0971198081970215, -3.8011629581451416, -0.01040685921907425, -3.434563398361206, 2.7457005977630615, 0.2862944006919861, -0.8491257429122925, -1.5220282077789307, 1.3553688526153564, 2.077648878097534, -3.0353686809539795, -0.9975718855857849, 0.518713116645813, -4.219754219055176, -3.815049886703491, -2.47938871383667, 0.9530825614929199, 0.42453810572624207, -1.9982025623321533, -5.100282669067383, 1.3375145196914673, -1.230451226234436, 2.1946237087249756, 0.5753225088119507, -1.5378131866455078, 1.1563550233840942, 3.005094528198242, 1.3177438974380493, 0.3357931673526764, 0.031105846166610718, -2.6875061988830566, 0.29674622416496277, 4.543622970581055, -0.5420339107513428, -3.1075870990753174, 0.1789887398481369, -0.08374805748462677, 1.1394938230514526, 0.7283211946487427, -1.7754414081573486, -2.2251899242401123, 0.4947998523712158, 1.355291724205017, 1.3586044311523438, -0.2653200030326843, 1.4127367734909058, 0.7535243034362793, 0.41535189747810364, -0.5125150680541992, -1.32163667678833, 3.561253547668457, 0.5771988034248352, -2.497145414352417, -2.7484679222106934, -1.3202015161514282, -2.331967353820801, -0.04695814847946167, 1.872338056564331, -2.958162784576416, -2.6301417350769043, -5.245581150054932, 1.766305685043335, 0.6320568919181824, -0.4419425129890442, -1.030483603477478, -1.1556631326675415, 2.3133385181427, 1.129296898841858, 2.8069190979003906, 0.2584598958492279, 1.3528707027435303, 0.19603002071380615, -0.9918012022972107, -2.880580186843872, -0.6963930130004883, -0.668573260307312, 0.10905562341213226, -3.6520607471466064, 1.1562418937683105, 1.3266268968582153, -1.324206829071045, -1.698818325996399, 1.7382961511611938, 2.478417158126831, -2.1154515743255615, -1.6748709678649902, 0.6417626738548279, -2.2623813152313232, 1.1165645122528076, 0.6253892779350281, -4.0493998527526855, -0.2687791585922241, 0.6063120365142822, -0.2470562756061554, -3.6289026737213135, -1.6586062908172607, -3.0188801288604736, -2.086392641067505, 4.854718208312988, 1.562355637550354, -3.8777153491973877, 0.9317294359207153, -0.3881150484085083, -0.9428262710571289, 0.8960444927215576, 0.4019562005996704, 0.13946248590946198, 1.5970251560211182, -0.032378703355789185, 3.0193850994110107, 0.474133163690567, -5.856400012969971, -0.8323043584823608, 0.14042316377162933, -0.1845906376838684, 1.7825103998184204, 1.005003809928894, -0.5862618684768677, -1.8901305198669434, -0.7577356100082397, -0.3250182271003723, 2.020881175994873, 2.0660877227783203, 1.7628554105758667, 2.2201051712036133, -1.796556830406189, -1.2795157432556152, 0.26698148250579834, 2.6089682579040527, 2.124838352203369, -0.13340029120445251, 1.2532974481582642, 0.9919705986976624, 0.7543207406997681, -3.184601068496704, -2.0100951194763184, 0.5970449447631836, 1.1189961433410645, -1.923866868019104, 0.6491739153862, -4.771200180053711, -0.3234219551086426, 2.140517473220825, 4.481023788452148, -0.21012470126152039, -2.3949193954467773, -3.017120599746704, -0.7398037910461426, 0.1588299423456192, -3.5262036323547363, 1.166896939277649, 0.608518123626709, 0.6743837594985962, 1.7170469760894775, 0.5042468905448914, 4.747005939483643, 0.9955204725265503, 0.7198938131332397, 3.05481219291687, 0.4249330759048462, 0.16135619580745697, 3.636899948120117, -3.278170585632324, -1.29808509349823, 1.1314351558685303, -1.6575250625610352, 0.2491093873977661, -2.9398624897003174, 0.4234362840652466, -2.096179962158203, 0.9922250509262085, -1.1828136444091797, -0.08126190304756165, 2.3987650871276855, 2.53515887260437, 0.6839253902435303, 1.5073800086975098, -0.5927874445915222, 1.0816164016723633, 0.05269504338502884, 1.571058750152588, 2.4044275283813477, -1.639495611190796, -0.46533945202827454, 0.9225050210952759, -1.1985572576522827, -0.4195925295352936, 0.011534035205841064, -0.8264487981796265, 1.6216545104980469, 1.0570363998413086, -3.3716351985931396, -2.4032700061798096, 1.7773706912994385]\n",
      "\n",
      "Highest Cosine Similarity for yahoo.html: 0.6668648401627676\n",
      "Best Matching Entry:\n",
      "Node Type: Text Elements\n",
      "Actual Name: using your Yahoo account\n",
      "Category: Text Elements\n",
      "Node XPath: html/body/div/div/div/div/div/span\n",
      "Generated Vector: [-0.4191160202026367, -1.4496598932892084, -0.1373138427734375, 0.5234526693820953, 2.1461707055568695, 2.808824837207794, 0.28793275356292725, 3.9561999440193176, -4.45192015171051, 3.0883126854896545, 7.124793648719788, 5.192459940910339, -6.278232991695404, 2.916109561920166, 1.4052273035049438, 1.6695266366004944, 3.934986561536789, 1.7039445340633392, -0.2895926833152771, 0.0925506055355072, -1.1008687615394592, 0.7858473360538483, -0.19760732352733612, -2.689428448677063, -2.062913417816162, 0.5093079805374146, -0.3639560639858246, -2.055036783218384, -0.554241955280304, 2.293917238712311, -0.824365496635437, 1.7913114055991173, -2.5900997817516327, 0.1613386869430542, 2.0801799446344376, 3.1676684617996216, 0.7889399528503418, -0.6333053112030029, 1.9527180194854736, 1.6609265804290771, -0.2537440210580826, -0.6104733720421791, -1.2493032813072205, 0.8275433331727982, -1.729693353176117, 1.62779001891613, 2.476319968700409, -0.5027200877666473, 1.4725726246833801, 1.6179898977279663, 0.5613133907318115, 3.721066474914551, -0.4426479935646057, -5.200893402099609, -2.480053424835205, 3.9536659717559814, -2.095328539609909, 1.3596468567848206, -1.8770265579223633, -0.2579333186149597, 3.8994400948286057, 2.623185396194458, -3.413323402404785, -1.3446433767676353, 3.81335985660553, 2.7116132974624634, -2.352899968624115, -6.027140140533447, 0.4817546010017395, 6.129793405532837, -1.3071539998054504, 0.2918633222579956, -0.14873769879341125, 2.0463667511940002, 1.278253972530365, 0.5306633114814758, -2.0680401623249054, -1.115866780281067, -1.4593752026557922, -0.33549654483795166, -6.126678705215454, 1.9727266430854797, 1.3843674417585135, 3.2165067195892334, -0.16897335648536682, 1.215146690607071, -1.7044146060943604, -1.3672706857323647, 0.4602926969528198, 0.35910478234291077, -0.9692633301019669, 0.8868800848722458, 1.021879956126213, -2.836462676525116, -1.5356892943382263, -2.3022332936525345, 0.19011136889457703, -0.26098133623600006, 0.23042863607406616, 2.8088792264461517, 1.6345279812812805, 1.8313899636268616, 1.0937912296503782, -1.39601331949234, 1.4823306202888489, 5.3325299471616745, -2.3219046592712402, -2.9615767002105713, -3.513742685317993, -0.8624533712863922, 2.8629281520843506, -0.700126588344574, -2.949624538421631, -1.828611969947815, 1.7985939383506775, 1.8945733308792114, -1.868620127439499, -0.8817119896411896, 1.5983800292015076, -2.6051347851753235, -2.867013342678547, -2.2168619632720947, -0.0008400231599807739, 1.419581949710846, -0.9413913488388062, -1.2854400277137756, 1.674248294904828, -5.529210805892944, 2.9873119592666626, -1.8830705881118774, -2.4803587794303894, -0.2222866415977478, 3.131333351135254, 0.3904626667499542, -0.8353054821491241, -1.4158829506486654, 0.8406033515930176, -0.8403974771499634, 3.251446843147278, -0.9796506464481354, 0.32567936182022095, -0.09231996536254883, 1.2552720755338669, 3.6834065914154053, 1.2012786269187927, -1.221698746085167, -3.1126493215560913, 2.0230602622032166, 2.535995841026306, 1.1667659878730774, -1.7594966888427734, 2.4958680868148804, 0.48109325766563416, -0.6573473215103149, -0.41640664637088776, -1.683555245399475, 3.836496114730835, 1.3361332900822163, -1.3038759529590607, -2.2515693306922913, -1.2380266785621643, -1.8576070871204138, 1.3931653499603271, 1.7543199360370636, -2.080573558807373, -1.4051373600959778, -3.177788734436035, 2.218744710087776, -2.387886703014374, -1.2158479243516922, -0.47915929555892944, -0.6721133142709732, -0.5659999400377274, 2.8704459965229034, 3.6488752365112305, 1.986807405948639, 1.59999318420887, 0.6456464529037476, -1.4700820073485374, -1.6670525670051575, 0.8921866416931152, 1.7483866456896067, 1.702845275402069, -3.365891993045807, -1.8291931450366974, -0.16858935356140137, -3.6831066608428955, -2.4977110251784325, 0.11367665231227875, 0.6759873032569885, -0.4084773026406765, -0.45601534843444824, -1.9745527356863022, -2.9601432383060455, 2.7600454092025757, 0.8291153311729431, -3.6480599641799927, -0.7356105446815491, -0.3998393416404724, -0.2548133134841919, -3.12140691280365, -1.7444567382335663, -2.27924345433712, -3.342066526412964, 1.602073311805725, 0.7055513560771942, -3.296113044023514, 4.1739466190338135, 3.1953145265579224, -3.065862536430359, 3.4077895879745483, 0.5443773716688156, 0.22595933824777603, 0.6041100025177002, -1.7870215624570847, 1.9374432563781738, 0.5677933096885681, -4.886213541030884, -1.3023466765880585, 0.2545014023780823, -2.336289867758751, 1.9964592456817627, -0.038519978523254395, -0.2758680582046509, 0.04815798997879028, -2.956168919801712, 1.951520025730133, 0.6478199660778046, 0.9571200311183929, 0.33839261531829834, 0.3910660147666931, -2.747702419757843, 0.2757652997970581, 0.9399573132395744, 0.9403006434440613, 1.79489466547966, -0.382938027381897, 0.6611893475055695, 0.3669813871383667, 1.830253154039383, -2.6878565922379494, -1.603086680173874, -0.8458735197782516, 1.8571579158306122, 0.36684002354741096, 1.9787252247333527, -0.9935732483863831, -1.094993233680725, 1.458862591534853, 0.09123528003692627, 0.5277959778904915, -3.1720932722091675, -6.098186492919922, -0.4035017788410187, -2.275213271379471, -1.4416432827711105, 3.54992413520813, -1.5043839812278748, -0.11766001582145691, -0.35027071833610535, -1.3948027342557907, 5.166520357131958, -0.03433002531528473, 0.2794413510710001, 3.343661904335022, -0.10949528217315674, -1.4935681223869324, 2.3501574397087097, -2.3094666600227356, 0.23493123054504395, 0.433346688747406, -0.48596125841140747, -1.1244412958621979, -1.7094579935073853, -2.4227027893066406, -1.3819725513458252, -1.0301100611686707, 0.5175120234489441, -1.2902534306049347, 2.368604823946953, 4.350160002708435, 1.9367067217826843, 1.093106672167778, 0.32055334746837616, 2.2042787075042725, 0.7954732775688171, 0.28301331400871277, 3.122174620628357, -4.567539811134338, 1.0091559886932373, 0.1907801628112793, -1.1391533017158508, -0.2070733904838562, -0.17408400774002075, -0.6240799874067307, 0.7900553345680237, 0.6993236094713211, -2.491215467453003, -2.6851358711719513, -0.8202720135450363]\n",
      "\n",
      "Overall Highest Cosine Similarity: 0.7139961723700201\n",
      "Best Matching Entry:\n",
      "Node Type: Text Elements\n",
      "Actual Name: Emails from social networks, media-sharing sites, dating services and other social sites will be shown here.\n",
      "Category: Text Elements\n",
      "Node XPath: html/body/div/div/div/div/div/div/div/div/div/div/div/div/div/div/div/div/div/div/div/div/p\n",
      "Generated Vector: [0.6788442730903625, -0.5932208299636841, -1.6883869171142578, 1.1796618700027466, 3.6282622814178467, 1.120784044265747, -0.14288562536239624, 4.312306880950928, -1.6884236335754395, 0.042547762393951416, 5.71486234664917, 1.8804112672805786, -4.98381233215332, 1.5568100214004517, 1.6233388185501099, 1.7912724018096924, 1.8370131254196167, -0.10709978640079498, -3.3536736965179443, -2.0100762844085693, 2.352381944656372, -0.9482662677764893, -3.376128911972046, -0.5315375328063965, -1.3477814197540283, -1.5946191549301147, -1.270690679550171, -1.3487825393676758, -1.740720510482788, -0.4115949869155884, 1.5678274631500244, 0.341002881526947, -2.741446018218994, -1.4343338012695312, -0.2839687466621399, 0.6190168261528015, -0.06234288215637207, 0.17780619859695435, 2.0817008018493652, -0.5574386119842529, 1.338457465171814, 0.4771218001842499, -0.5714805722236633, 0.8381187319755554, -1.3495912551879883, 2.4507734775543213, 2.270857334136963, -3.1376659870147705, 1.3716399669647217, 1.2018699645996094, -0.17443637549877167, 3.8673899173736572, -0.18213626742362976, -5.993462085723877, -0.6272361874580383, 1.6147958040237427, -2.130403757095337, 1.6046311855316162, 1.7940276861190796, -1.144222617149353, 1.8105995655059814, 1.48976731300354, -1.2573857307434082, -1.5345344543457031, 4.288207530975342, 2.5422110557556152, -3.8419089317321777, -1.1951498985290527, 1.2619850635528564, 3.025083065032959, -1.7388099431991577, -0.2872166633605957, -1.5861026048660278, -1.1583819389343262, -0.8090204000473022, 0.8192510008811951, -2.6164965629577637, 0.7547912001609802, -3.299673080444336, 0.7460569739341736, -4.224367141723633, 0.2773369252681732, 2.973294973373413, 1.4976990222930908, 1.6400587558746338, 1.1543768644332886, -1.6319046020507812, -2.140047073364258, 3.2810754776000977, -0.4153794050216675, 0.747133731842041, 0.8793127536773682, 1.231960654258728, -2.383312463760376, -0.06575128436088562, -0.9885424971580505, 1.917388677597046, -2.37330961227417, 1.0742580890655518, 1.448781967163086, 3.7422242164611816, 1.9107656478881836, 1.215506911277771, 1.3441288471221924, -1.4522337913513184, 5.838367938995361, -2.0971198081970215, -3.8011629581451416, -0.01040685921907425, -3.434563398361206, 2.7457005977630615, 0.2862944006919861, -0.8491257429122925, -1.5220282077789307, 1.3553688526153564, 2.077648878097534, -3.0353686809539795, -0.9975718855857849, 0.518713116645813, -4.219754219055176, -3.815049886703491, -2.47938871383667, 0.9530825614929199, 0.42453810572624207, -1.9982025623321533, -5.100282669067383, 1.3375145196914673, -1.230451226234436, 2.1946237087249756, 0.5753225088119507, -1.5378131866455078, 1.1563550233840942, 3.005094528198242, 1.3177438974380493, 0.3357931673526764, 0.031105846166610718, -2.6875061988830566, 0.29674622416496277, 4.543622970581055, -0.5420339107513428, -3.1075870990753174, 0.1789887398481369, -0.08374805748462677, 1.1394938230514526, 0.7283211946487427, -1.7754414081573486, -2.2251899242401123, 0.4947998523712158, 1.355291724205017, 1.3586044311523438, -0.2653200030326843, 1.4127367734909058, 0.7535243034362793, 0.41535189747810364, -0.5125150680541992, -1.32163667678833, 3.561253547668457, 0.5771988034248352, -2.497145414352417, -2.7484679222106934, -1.3202015161514282, -2.331967353820801, -0.04695814847946167, 1.872338056564331, -2.958162784576416, -2.6301417350769043, -5.245581150054932, 1.766305685043335, 0.6320568919181824, -0.4419425129890442, -1.030483603477478, -1.1556631326675415, 2.3133385181427, 1.129296898841858, 2.8069190979003906, 0.2584598958492279, 1.3528707027435303, 0.19603002071380615, -0.9918012022972107, -2.880580186843872, -0.6963930130004883, -0.668573260307312, 0.10905562341213226, -3.6520607471466064, 1.1562418937683105, 1.3266268968582153, -1.324206829071045, -1.698818325996399, 1.7382961511611938, 2.478417158126831, -2.1154515743255615, -1.6748709678649902, 0.6417626738548279, -2.2623813152313232, 1.1165645122528076, 0.6253892779350281, -4.0493998527526855, -0.2687791585922241, 0.6063120365142822, -0.2470562756061554, -3.6289026737213135, -1.6586062908172607, -3.0188801288604736, -2.086392641067505, 4.854718208312988, 1.562355637550354, -3.8777153491973877, 0.9317294359207153, -0.3881150484085083, -0.9428262710571289, 0.8960444927215576, 0.4019562005996704, 0.13946248590946198, 1.5970251560211182, -0.032378703355789185, 3.0193850994110107, 0.474133163690567, -5.856400012969971, -0.8323043584823608, 0.14042316377162933, -0.1845906376838684, 1.7825103998184204, 1.005003809928894, -0.5862618684768677, -1.8901305198669434, -0.7577356100082397, -0.3250182271003723, 2.020881175994873, 2.0660877227783203, 1.7628554105758667, 2.2201051712036133, -1.796556830406189, -1.2795157432556152, 0.26698148250579834, 2.6089682579040527, 2.124838352203369, -0.13340029120445251, 1.2532974481582642, 0.9919705986976624, 0.7543207406997681, -3.184601068496704, -2.0100951194763184, 0.5970449447631836, 1.1189961433410645, -1.923866868019104, 0.6491739153862, -4.771200180053711, -0.3234219551086426, 2.140517473220825, 4.481023788452148, -0.21012470126152039, -2.3949193954467773, -3.017120599746704, -0.7398037910461426, 0.1588299423456192, -3.5262036323547363, 1.166896939277649, 0.608518123626709, 0.6743837594985962, 1.7170469760894775, 0.5042468905448914, 4.747005939483643, 0.9955204725265503, 0.7198938131332397, 3.05481219291687, 0.4249330759048462, 0.16135619580745697, 3.636899948120117, -3.278170585632324, -1.29808509349823, 1.1314351558685303, -1.6575250625610352, 0.2491093873977661, -2.9398624897003174, 0.4234362840652466, -2.096179962158203, 0.9922250509262085, -1.1828136444091797, -0.08126190304756165, 2.3987650871276855, 2.53515887260437, 0.6839253902435303, 1.5073800086975098, -0.5927874445915222, 1.0816164016723633, 0.05269504338502884, 1.571058750152588, 2.4044275283813477, -1.639495611190796, -0.46533945202827454, 0.9225050210952759, -1.1985572576522827, -0.4195925295352936, 0.011534035205841064, -0.8264487981796265, 1.6216545104980469, 1.0570363998413086, -3.3716351985931396, -2.4032700061798096, 1.7773706912994385]\n",
      "Corresponding HTML File: C:\\Users\\Ankit\\Projects\\OCR_AI\\html2vec\\Signup\\gmail.html\n",
      "\n",
      "Opening HTML file: C:\\Users\\Ankit\\Projects\\OCR_AI\\html2vec\\Signup\\gmail.html\n"
     ]
    }
   ],
   "source": [
    "from os.path import join\n",
    "import os\n",
    "\n",
    "# Function to take user input for UI element text\n",
    "def get_user_input_text():\n",
    "    return \"forgot password?\"\n",
    "\n",
    "# Define the directory path containing HTML files\n",
    "html_folder_path = r\"C:\\Users\\Ankit\\Projects\\OCR_AI\\html2vec\\Final\\Hierarchy\\linkedin\"\n",
    "\n",
    "# Increase spaCy's max_length limit\n",
    "nlp.max_length = 2000000  # Set an appropriate value based on your HTML content length\n",
    "\n",
    "# Initialize variables to store the overall best matching entry\n",
    "overall_highest_cosine_similarity_global = -1\n",
    "overall_best_matching_entry_global = None\n",
    "overall_best_matching_html_file = None\n",
    "\n",
    "# Get user input for UI element text\n",
    "user_input_text = get_user_input_text()\n",
    "\n",
    "# Convert user input text into vector using spaCy\n",
    "user_input_vector = nlp(user_input_text).vector\n",
    "\n",
    "# Process each HTML file in the directory and its subdirectories\n",
    "for root, dirs, files in os.walk(html_folder_path):\n",
    "    for html_file_name in files:\n",
    "        if html_file_name.endswith('.html'):\n",
    "            # Construct the full path to the HTML file\n",
    "            html_file_path = os.path.join(root, html_file_name)\n",
    "\n",
    "            # Read HTML content from the file\n",
    "            with open(html_file_path, \"r\", encoding=\"utf-8\") as html_file:\n",
    "                html_content = html_file.read()\n",
    "\n",
    "            # Generate the report data and get the maximum cosine similarity\n",
    "            report_data = ReportGenerator.generate_report(html_content, user_input_vector, similarity_threshold=None)\n",
    "            max_cosine_similarity = max(entry[\"Cosine Similarity\"] for entry in report_data)\n",
    "\n",
    "            # Use the maximum cosine similarity as the threshold\n",
    "            similarity_threshold = max_cosine_similarity\n",
    "\n",
    "            # Find the UI element with the highest cosine similarity for the current HTML file\n",
    "            highest_cosine_similarity = -1\n",
    "            best_matching_entry = None\n",
    "\n",
    "            for entry in report_data:\n",
    "                cosine_similarity_value = entry[\"Cosine Similarity\"]\n",
    "\n",
    "                if cosine_similarity_value > highest_cosine_similarity:\n",
    "                    highest_cosine_similarity = cosine_similarity_value\n",
    "                    best_matching_entry = entry\n",
    "\n",
    "            # Print the details of the highest cosine similarity for the current HTML file\n",
    "            if best_matching_entry is not None:\n",
    "                print(f\"Highest Cosine Similarity for {html_file_name}: {highest_cosine_similarity}\")\n",
    "                print(f\"Best Matching Entry:\")\n",
    "                print(f\"Node Type: {best_matching_entry['Node Type']}\")\n",
    "                print(f\"Actual Name: {best_matching_entry['Actual Name']}\")\n",
    "                print(f\"Category: {best_matching_entry['Category']}\")\n",
    "                print(f\"Node XPath: {best_matching_entry['Node XPath']}\")\n",
    "                print(f\"Generated Vector: {best_matching_entry['Generated Vector']}\")\n",
    "                print()\n",
    "\n",
    "            # Update overall variables if the current entry has higher cosine similarity\n",
    "            if highest_cosine_similarity > overall_highest_cosine_similarity_global:\n",
    "                overall_highest_cosine_similarity_global = highest_cosine_similarity\n",
    "                overall_best_matching_entry_global = best_matching_entry\n",
    "                overall_best_matching_html_file = html_file_path\n",
    "\n",
    "# Print the details of the overall best matching entry across all HTML files\n",
    "if overall_best_matching_entry_global is not None:\n",
    "    print(f\"Overall Highest Cosine Similarity: {overall_highest_cosine_similarity_global}\")\n",
    "    print(f\"Best Matching Entry:\")\n",
    "    print(f\"Node Type: {overall_best_matching_entry_global['Node Type']}\")\n",
    "    print(f\"Actual Name: {overall_best_matching_entry_global['Actual Name']}\")\n",
    "    print(f\"Category: {overall_best_matching_entry_global['Category']}\")\n",
    "    print(f\"Node XPath: {overall_best_matching_entry_global['Node XPath']}\")\n",
    "    print(f\"Generated Vector: {overall_best_matching_entry_global['Generated Vector']}\")\n",
    "    print(f\"Corresponding HTML File: {overall_best_matching_html_file}\")\n",
    "    print()\n",
    "\n",
    "    # Open the HTML file corresponding to the overall best match\n",
    "    print(f\"Opening HTML file: {overall_best_matching_html_file}\")\n",
    "\n",
    "    # Now you can open the HTML file using your preferred method (e.g., web browser, etc.)\n",
    "    # Example: open the HTML file in the default web browser\n",
    "    import webbrowser\n",
    "    webbrowser.open(overall_best_matching_html_file)\n"
   ]
  },
  {
   "cell_type": "code",
   "execution_count": null,
   "metadata": {},
   "outputs": [],
   "source": []
  },
  {
   "cell_type": "code",
   "execution_count": null,
   "metadata": {},
   "outputs": [],
   "source": []
  },
  {
   "cell_type": "code",
   "execution_count": null,
   "metadata": {},
   "outputs": [],
   "source": []
  },
  {
   "cell_type": "code",
   "execution_count": null,
   "metadata": {},
   "outputs": [],
   "source": []
  },
  {
   "cell_type": "code",
   "execution_count": null,
   "metadata": {},
   "outputs": [],
   "source": []
  },
  {
   "cell_type": "code",
   "execution_count": null,
   "metadata": {},
   "outputs": [],
   "source": []
  },
  {
   "cell_type": "code",
   "execution_count": null,
   "metadata": {},
   "outputs": [],
   "source": []
  }
 ],
 "metadata": {
  "colab": {
   "provenance": []
  },
  "kernelspec": {
   "display_name": "Python 3 (ipykernel)",
   "language": "python",
   "name": "python3"
  },
  "language_info": {
   "codemirror_mode": {
    "name": "ipython",
    "version": 3
   },
   "file_extension": ".py",
   "mimetype": "text/x-python",
   "name": "python",
   "nbconvert_exporter": "python",
   "pygments_lexer": "ipython3",
   "version": "3.11.5"
  }
 },
 "nbformat": 4,
 "nbformat_minor": 1
}
